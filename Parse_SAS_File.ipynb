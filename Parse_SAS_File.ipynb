{
 "cells": [
  {
   "cell_type": "code",
   "execution_count": 18,
   "metadata": {
    "editable": true
   },
   "outputs": [],
   "source": [
    "import pandas as pd\n",
    "import configparser\n",
    "from datetime import datetime\n",
    "import os\n",
    "from pyspark.sql import SparkSession\n",
    "from pyspark.sql.functions import udf, col , monotonically_increasing_id\n",
    "from pyspark.sql.functions import year, month, dayofmonth, hour, weekofyear, date_format\n",
    "from pyspark.sql import types as t\n",
    "import re\n",
    "import io\n",
    "\n"
   ]
  },
  {
   "cell_type": "code",
   "execution_count": 19,
   "metadata": {
    "editable": true
   },
   "outputs": [],
   "source": [
    "def create_spark_session():\n",
    "    spark = SparkSession \\\n",
    "        .builder \\\n",
    "        .config(\"spark.jars.packages\", \"org.apache.hadoop:hadoop-aws:2.7.0\") \\\n",
    "        .getOrCreate()\n",
    "    return spark"
   ]
  },
  {
   "cell_type": "code",
   "execution_count": 20,
   "metadata": {
    "editable": true
   },
   "outputs": [],
   "source": [
    "from pyspark.sql import SparkSession\n",
    "spark = SparkSession.builder.\\\n",
    "config(\"spark.jars.packages\",\"saurfang:spark-sas7bdat:2.0.0-s_2.11\")\\\n",
    ".enableHiveSupport().getOrCreate()\n",
    "df_spark =spark.read.format('com.github.saurfang.sas.spark').load('I94_SAS_Labels_Descriptions.SAS')"
   ]
  },
  {
   "cell_type": "code",
   "execution_count": 21,
   "metadata": {
    "editable": true
   },
   "outputs": [],
   "source": [
    "with open(\"I94_SAS_Labels_Descriptions.SAS\", 'r') as file_handle:\n",
    "    # read file content into list\n",
    "    #lines = file_handle.readlines()\n",
    "    file=file_handle.read()\n",
    "    #headers=next(lines)\n",
    "sas_dict={}\n",
    "temp_data=[]\n",
    "\n",
    "\n",
    "# print list content\n",
    "#print(lines)"
   ]
  },
  {
   "cell_type": "code",
   "execution_count": 24,
   "metadata": {
    "editable": true
   },
   "outputs": [],
   "source": [
    "for line in file.split(\"\\n\"):\n",
    "        line = re.sub(r\"\\s+\", \" \", line)\n",
    "        if \"/*\" in line and \"-\" in line:\n",
    "            k, v = [i.strip(\" \") for i in line.split(\"*\")[1]\n",
    "                                              .split(\"-\", 1)]\n",
    "            k = k.replace(' & ', '_').lower()\n",
    "            sas_dict[k] = {'description': v}\n",
    "        elif '=' in line and ';' not in line:\n",
    "            temp_data.append([i.strip(' ').strip(\"'\").title()\n",
    "                              for i in line.split('=')])\n",
    "        elif len(temp_data) > 0:\n",
    "            sas_dict[k]['data'] = temp_data\n",
    "            temp_data = []\n",
    "\n",
    "sas_dict['i94cit_i94res']['df'] = pd.DataFrame(\n",
    "        sas_dict['i94cit_i94res']['data'], columns=['code', 'country'])\n",
    "\n",
    "tempdf = pd.DataFrame(sas_dict['i94port']['data'],\n",
    "                          columns=['code', 'port_of_entry'])\n",
    "tempdf['code'] = tempdf['code'].str.upper()\n",
    "tempdf[['city', 'state_or_country']] = tempdf['port_of_entry'\n",
    "                                                  ].str.rsplit(',', 1,\n",
    "                                                               expand=True)\n",
    "sas_dict['i94port']['df'] = tempdf\n",
    "\n",
    "sas_dict['i94mode']['df'] = pd.DataFrame(\n",
    "        sas_dict['i94mode']['data'], columns=['code', 'transportation'])\n",
    "\n",
    "tempdf = pd.DataFrame(sas_dict['i94addr']['data'],\n",
    "                          columns=['code', 'state'])\n",
    "tempdf['code'] = tempdf['code'].str.upper()\n",
    "sas_dict['i94addr']['df'] = tempdf\n",
    "\n",
    "sas_dict['i94visa']['df'] = pd.DataFrame(\n",
    "    \n",
    "    sas_dict['i94visa']['data'], columns=['code', 'reason_for_travel'])\n",
    "\n",
    "for table in sas_dict.keys():\n",
    "    if 'df' in sas_dict[table].keys():\n",
    "        with io.open(f\"{table}.csv\", \"w\" ) as f:\n",
    "           sas_dict[table]['df'].to_csv(f, index=False)\n",
    "            \n",
    "        \n",
    "                       \n",
    "            \n",
    "            \n",
    "            "
   ]
  },
  {
   "cell_type": "code",
   "execution_count": null,
   "metadata": {
    "editable": true
   },
   "outputs": [],
   "source": []
  }
 ],
 "metadata": {
  "kernelspec": {
   "display_name": "Python 3",
   "language": "python",
   "name": "python3"
  },
  "language_info": {
   "codemirror_mode": {
    "name": "ipython",
    "version": 3
   },
   "file_extension": ".py",
   "mimetype": "text/x-python",
   "name": "python",
   "nbconvert_exporter": "python",
   "pygments_lexer": "ipython3",
   "version": "3.6.3"
  }
 },
 "nbformat": 4,
 "nbformat_minor": 4
}
